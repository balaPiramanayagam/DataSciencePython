{
 "cells": [
  {
   "cell_type": "code",
   "execution_count": 1,
   "id": "7e56e6a0",
   "metadata": {},
   "outputs": [
    {
     "data": {
      "text/plain": [
       "4"
      ]
     },
     "execution_count": 1,
     "metadata": {},
     "output_type": "execute_result"
    }
   ],
   "source": [
    "list_city = ['Chennai', 'Kolkatta', 'Mumbai', 'Delhi' ]\n",
    "len(list_city)"
   ]
  },
  {
   "cell_type": "code",
   "execution_count": 7,
   "id": "09434d20",
   "metadata": {},
   "outputs": [
    {
     "name": "stdout",
     "output_type": "stream",
     "text": [
      "I like to go to : Chennai\n",
      "I like to go to : Kolkatta\n",
      "I like to go to : Mumbai\n",
      "I like to go to : Delhi\n"
     ]
    }
   ],
   "source": [
    "for i in range(len(list_city)):\n",
    "    print ('I like to go to :', list_city[i])"
   ]
  },
  {
   "cell_type": "code",
   "execution_count": 10,
   "id": "eae4aa00",
   "metadata": {},
   "outputs": [
    {
     "name": "stdout",
     "output_type": "stream",
     "text": [
      "I have 1 days\n",
      "I have 10 days\n"
     ]
    }
   ],
   "source": [
    "num = [1, 10, 100]\n",
    "for i in num:\n",
    "    if i == 10:\n",
    "        print ('I have', i, 'days')\n",
    "        break \n",
    "    else:\n",
    "        print ('I have', i, 'days')"
   ]
  },
  {
   "cell_type": "code",
   "execution_count": 11,
   "id": "15259c85",
   "metadata": {},
   "outputs": [
    {
     "name": "stdout",
     "output_type": "stream",
     "text": [
      "I have 10 days in if stmnd\n"
     ]
    }
   ],
   "source": [
    "num = [1, 10, 100]\n",
    "for i in num:\n",
    "    if i == 10:\n",
    "        print ('I have', i, 'days in if stmnd')\n",
    "        break \n",
    "else:\n",
    "        print ('I have', i, 'days in else stmnt')"
   ]
  },
  {
   "cell_type": "markdown",
   "id": "ceab1757",
   "metadata": {},
   "source": [
    "# WHILE"
   ]
  },
  {
   "cell_type": "code",
   "execution_count": 14,
   "id": "0f9571ef",
   "metadata": {},
   "outputs": [
    {
     "name": "stdout",
     "output_type": "stream",
     "text": [
      "Enter the number: 5\n",
      "10\n"
     ]
    }
   ],
   "source": [
    "#Sum of Numbers \n",
    "num = int ( input ('Enter the number: '))\n",
    "i = 0\n",
    "sum_var = 0\n",
    "while i < num: \n",
    "    sum_var = sum_var + i\n",
    "  #print (i)  \n",
    "    i = i + 1\n",
    "print (sum_var)\n"
   ]
  },
  {
   "cell_type": "code",
   "execution_count": 15,
   "id": "f99e8fec",
   "metadata": {},
   "outputs": [
    {
     "name": "stdout",
     "output_type": "stream",
     "text": [
      "Enter the number: 5\n",
      "10\n"
     ]
    }
   ],
   "source": [
    "#Sum of Numbers \n",
    "num = int ( input ('Enter the number: '))\n",
    "i = 0\n",
    "sum_var = 0\n",
    "while i < num: \n",
    "    sum_var = sum_var + i\n",
    "    i = i +1\n",
    "else:\n",
    "    print (sum_var)\n"
   ]
  },
  {
   "cell_type": "code",
   "execution_count": 18,
   "id": "fdf99e80",
   "metadata": {},
   "outputs": [
    {
     "name": "stdout",
     "output_type": "stream",
     "text": [
      "C\n",
      "o\n",
      "u\n",
      "n\n",
      "t\n"
     ]
    }
   ],
   "source": [
    "for i in 'Country':\n",
    "    if i == 'r':\n",
    "        break\n",
    "    print (i)"
   ]
  },
  {
   "cell_type": "code",
   "execution_count": 19,
   "id": "ae96584d",
   "metadata": {},
   "outputs": [
    {
     "name": "stdout",
     "output_type": "stream",
     "text": [
      "C\n",
      "o\n",
      "u\n",
      "n\n",
      "t\n",
      "y\n"
     ]
    }
   ],
   "source": [
    "for i in 'Country':\n",
    "    if i == 'r':\n",
    "        continue\n",
    "    print (i)"
   ]
  },
  {
   "cell_type": "code",
   "execution_count": 22,
   "id": "cf621496",
   "metadata": {},
   "outputs": [],
   "source": [
    "#Pass statement explanation\n",
    "list_val = ['P', 'a', 's', 's']\n",
    "\n",
    "for i in list_val:\n",
    "    pass"
   ]
  },
  {
   "cell_type": "markdown",
   "id": "793b19b0",
   "metadata": {},
   "source": [
    "# FUNCTIONS"
   ]
  },
  {
   "cell_type": "code",
   "execution_count": 25,
   "id": "0b182417",
   "metadata": {},
   "outputs": [],
   "source": [
    "def greetings(name):\n",
    "    \"\"\"Function to greet someone\"\"\"\n",
    "    print(\"Hello\", name, \"How'r you\")"
   ]
  },
  {
   "cell_type": "code",
   "execution_count": 26,
   "id": "13123d95",
   "metadata": {},
   "outputs": [
    {
     "name": "stdout",
     "output_type": "stream",
     "text": [
      "Hello guys How'r you\n"
     ]
    }
   ],
   "source": [
    "greetings ('guys')"
   ]
  },
  {
   "cell_type": "code",
   "execution_count": 28,
   "id": "ee13056c",
   "metadata": {},
   "outputs": [
    {
     "name": "stdout",
     "output_type": "stream",
     "text": [
      "Function to greet someone\n"
     ]
    }
   ],
   "source": [
    "print(greetings.__doc__)"
   ]
  },
  {
   "cell_type": "code",
   "execution_count": 30,
   "id": "5787e55a",
   "metadata": {},
   "outputs": [],
   "source": [
    "def absolute(num):\n",
    "    \"\"\"Finding Absolute value\"\"\"\n",
    "    if num > 0:\n",
    "         return (num)\n",
    "    else:\n",
    "        num = num*-1\n",
    "        return (num)"
   ]
  },
  {
   "cell_type": "code",
   "execution_count": 31,
   "id": "c81d9244",
   "metadata": {},
   "outputs": [
    {
     "data": {
      "text/plain": [
       "7"
      ]
     },
     "execution_count": 31,
     "metadata": {},
     "output_type": "execute_result"
    }
   ],
   "source": [
    "absolute (-7)"
   ]
  },
  {
   "cell_type": "code",
   "execution_count": 32,
   "id": "1235a3cf",
   "metadata": {},
   "outputs": [],
   "source": [
    "def absolute1(num):\n",
    "    \"\"\"Finding Absolute value\"\"\"\n",
    "    if num > 0:\n",
    "         return (num)\n",
    "    else:\n",
    "         return (-num)"
   ]
  },
  {
   "cell_type": "code",
   "execution_count": 33,
   "id": "3b1b193c",
   "metadata": {},
   "outputs": [
    {
     "data": {
      "text/plain": [
       "5"
      ]
     },
     "execution_count": 33,
     "metadata": {},
     "output_type": "execute_result"
    }
   ],
   "source": [
    "absolute(-5)"
   ]
  },
  {
   "cell_type": "code",
   "execution_count": 34,
   "id": "20374d53",
   "metadata": {},
   "outputs": [],
   "source": [
    "def func():\n",
    "    a = 10 #Local Variable\n",
    "    print ('Inside the function', a)\n",
    "\n",
    "    a= 20 #global variable\n",
    "    print ('Outside the function', a)"
   ]
  },
  {
   "cell_type": "code",
   "execution_count": 35,
   "id": "b6eec59d",
   "metadata": {},
   "outputs": [
    {
     "name": "stdout",
     "output_type": "stream",
     "text": [
      "Inside the function 10\n",
      "Outside the function 20\n"
     ]
    }
   ],
   "source": [
    "func()"
   ]
  },
  {
   "cell_type": "markdown",
   "id": "53833fa7",
   "metadata": {},
   "source": [
    "# FUNCTION ARGUMENTS"
   ]
  },
  {
   "cell_type": "markdown",
   "id": "c6bcfe0c",
   "metadata": {},
   "source": [
    "## Positional Aruguments"
   ]
  },
  {
   "cell_type": "code",
   "execution_count": 36,
   "id": "7c221d59",
   "metadata": {},
   "outputs": [],
   "source": [
    "def greet (arg1, arg2):\n",
    "    \"\"\"Function with arguments\"\"\"\n",
    "    print(arg1, arg2, 'everyone!')\n",
    "    "
   ]
  },
  {
   "cell_type": "code",
   "execution_count": 37,
   "id": "7b0e40db",
   "metadata": {},
   "outputs": [
    {
     "name": "stdout",
     "output_type": "stream",
     "text": [
      "Good Evening everyone!\n"
     ]
    }
   ],
   "source": [
    "greet ('Good', 'Evening')"
   ]
  },
  {
   "cell_type": "markdown",
   "id": "6811ea71",
   "metadata": {},
   "source": [
    "## Default Arguments"
   ]
  },
  {
   "cell_type": "code",
   "execution_count": 38,
   "id": "7a932c2f",
   "metadata": {},
   "outputs": [],
   "source": [
    "def greet (arg1, arg2 = 'Good morning'):\n",
    "    print (\"Hello\", arg1, arg2)"
   ]
  },
  {
   "cell_type": "code",
   "execution_count": 39,
   "id": "d0110e14",
   "metadata": {},
   "outputs": [
    {
     "name": "stdout",
     "output_type": "stream",
     "text": [
      "Hello people Good morning\n"
     ]
    }
   ],
   "source": [
    "greet ('people')"
   ]
  },
  {
   "cell_type": "code",
   "execution_count": 40,
   "id": "7625ea12",
   "metadata": {},
   "outputs": [
    {
     "ename": "SyntaxError",
     "evalue": "non-default argument follows default argument (Temp/ipykernel_1140/1273844028.py, line 1)",
     "output_type": "error",
     "traceback": [
      "\u001b[1;36m  File \u001b[1;32m\"C:\\Users\\BALAPI~1\\AppData\\Local\\Temp/ipykernel_1140/1273844028.py\"\u001b[1;36m, line \u001b[1;32m1\u001b[0m\n\u001b[1;33m    def greet (arg2 = 'Good Morning', arg1):\u001b[0m\n\u001b[1;37m                                          ^\u001b[0m\n\u001b[1;31mSyntaxError\u001b[0m\u001b[1;31m:\u001b[0m non-default argument follows default argument\n"
     ]
    }
   ],
   "source": [
    "def greet (arg2 = 'Good Morning', arg1):\n",
    "    print (\"Hello\", arg1, arg2)"
   ]
  },
  {
   "cell_type": "markdown",
   "id": "f2c36854",
   "metadata": {},
   "source": [
    "## Keyword arguments"
   ]
  },
  {
   "cell_type": "code",
   "execution_count": 41,
   "id": "46290089",
   "metadata": {
    "scrolled": true
   },
   "outputs": [
    {
     "name": "stdout",
     "output_type": "stream",
     "text": [
      "Hello Hi Everyone\n",
      "Hello Hi Everyone\n",
      "Hello Hi Everyone\n"
     ]
    }
   ],
   "source": [
    "greet (arg1 = \"Hi\", arg2 = \"Everyone\")\n",
    "greet (arg2 = \"Everyone\", arg1 = \"Hi\")\n",
    "greet (\"Hi\", arg2 = \"Everyone\")"
   ]
  },
  {
   "cell_type": "markdown",
   "id": "329353a2",
   "metadata": {},
   "source": [
    "# RECURSION"
   ]
  },
  {
   "cell_type": "code",
   "execution_count": 43,
   "id": "a5470654",
   "metadata": {},
   "outputs": [],
   "source": [
    "def fn1():\n",
    "    #statement\n",
    "    fn1()"
   ]
  },
  {
   "cell_type": "code",
   "execution_count": null,
   "id": "6ea251c3",
   "metadata": {},
   "outputs": [],
   "source": [
    "#factorial of a number\n",
    "#5!\n",
    "#1!"
   ]
  },
  {
   "cell_type": "code",
   "execution_count": 44,
   "id": "82de70d3",
   "metadata": {},
   "outputs": [
    {
     "data": {
      "text/plain": [
       "120"
      ]
     },
     "execution_count": 44,
     "metadata": {},
     "output_type": "execute_result"
    }
   ],
   "source": [
    "5 * 4 * 3 * 2 * 1"
   ]
  },
  {
   "cell_type": "code",
   "execution_count": 49,
   "id": "1145926f",
   "metadata": {},
   "outputs": [
    {
     "name": "stdout",
     "output_type": "stream",
     "text": [
      "Factorial of 5 is  24\n"
     ]
    }
   ],
   "source": [
    "def recursion (x):\n",
    "    if x == 1:\n",
    "        return x\n",
    "    else:\n",
    "        return (x * recursion(x-1))\n",
    "num = 5\n",
    "print ('Factorial of', num, 'is ', recursion(num))"
   ]
  },
  {
   "cell_type": "markdown",
   "id": "c5a5e557",
   "metadata": {},
   "source": [
    "### Lamda - Anonymous function"
   ]
  },
  {
   "cell_type": "code",
   "execution_count": 50,
   "id": "c6c0efa9",
   "metadata": {},
   "outputs": [
    {
     "data": {
      "text/plain": [
       "8"
      ]
     },
     "execution_count": 50,
     "metadata": {},
     "output_type": "execute_result"
    }
   ],
   "source": [
    "cube = lambda x : x * x * x \n",
    "cube (2)"
   ]
  },
  {
   "cell_type": "markdown",
   "id": "3c35a635",
   "metadata": {},
   "source": [
    "### Filter"
   ]
  },
  {
   "cell_type": "markdown",
   "id": "21b0b7fc",
   "metadata": {},
   "source": [
    "- Filter takes in a function and a list of argument\n",
    "- The function is called with the items in the list, and a newe list is returned containing the items for which the functions evaluates to True"
   ]
  },
  {
   "cell_type": "code",
   "execution_count": 54,
   "id": "9216000e",
   "metadata": {},
   "outputs": [
    {
     "name": "stdout",
     "output_type": "stream",
     "text": [
      "[0, 1, 2, 3, 4, 5, 6, 7, 8, 9]\n"
     ]
    }
   ],
   "source": [
    "my_list = list (range(10))\n",
    "print(my_list)"
   ]
  },
  {
   "cell_type": "code",
   "execution_count": 55,
   "id": "cb048b50",
   "metadata": {},
   "outputs": [
    {
     "name": "stdout",
     "output_type": "stream",
     "text": [
      "Applying the filter operation [0, 2, 4, 6, 8]\n"
     ]
    }
   ],
   "source": [
    "fil = list(filter(lambda x : x % 2 == 0, my_list))\n",
    "print ('Applying the filter operation', fil)"
   ]
  },
  {
   "cell_type": "markdown",
   "id": "a02e1b06",
   "metadata": {},
   "source": [
    "### MAP\n",
    "- Filter takes in a function and a list of argument\n",
    "- Every items in the list will be returned based on function that we are performing"
   ]
  },
  {
   "cell_type": "code",
   "execution_count": 56,
   "id": "b9374060",
   "metadata": {},
   "outputs": [
    {
     "name": "stdout",
     "output_type": "stream",
     "text": [
      "[2, 10, 8, 12, 16, 22, 6, 24]\n"
     ]
    }
   ],
   "source": [
    "my_list = [1,5,4,6,8,11,3,12]\n",
    "new_list = list(map(lambda x: x*2, my_list))\n",
    "print(new_list)"
   ]
  },
  {
   "cell_type": "code",
   "execution_count": 57,
   "id": "b5594531",
   "metadata": {},
   "outputs": [
    {
     "name": "stdout",
     "output_type": "stream",
     "text": [
      "['A', 'B', 'C']\n"
     ]
    }
   ],
   "source": [
    "fil11 = list (map(lambda x: x.upper(), ['a', 'b', 'c']))\n",
    "print(fil11)\n"
   ]
  },
  {
   "cell_type": "code",
   "execution_count": 58,
   "id": "3b66f212",
   "metadata": {},
   "outputs": [
    {
     "name": "stdout",
     "output_type": "stream",
     "text": [
      "[20, 30, 40, 50]\n"
     ]
    }
   ],
   "source": [
    "my_dict = {10: 'B', 20: 'A', 30: 'A', 40: 'B', 50: 'A'}  \n",
    "filt1 = list((filter(lambda x : x > 10,my_dict)))\n",
    "print(filt1)\n"
   ]
  },
  {
   "cell_type": "code",
   "execution_count": 60,
   "id": "7639c062",
   "metadata": {},
   "outputs": [
    {
     "name": "stdout",
     "output_type": "stream",
     "text": [
      "['a', 'e']\n"
     ]
    }
   ],
   "source": [
    "def fun(var):\n",
    "    letters = ['a', 'e', 'i', 'o', 'u']\n",
    "    if (var in letters):\n",
    "        return True\n",
    "    else:\n",
    "        return False\n",
    "seq = ['a', 'b', 'c', 'd', 'e']\n",
    "fil = list(filter(fun,seq))\n",
    "print (fil)\n",
    "\n"
   ]
  },
  {
   "cell_type": "code",
   "execution_count": null,
   "id": "4f4e4c3d",
   "metadata": {},
   "outputs": [],
   "source": []
  }
 ],
 "metadata": {
  "kernelspec": {
   "display_name": "Python 3 (ipykernel)",
   "language": "python",
   "name": "python3"
  },
  "language_info": {
   "codemirror_mode": {
    "name": "ipython",
    "version": 3
   },
   "file_extension": ".py",
   "mimetype": "text/x-python",
   "name": "python",
   "nbconvert_exporter": "python",
   "pygments_lexer": "ipython3",
   "version": "3.9.7"
  }
 },
 "nbformat": 4,
 "nbformat_minor": 5
}
